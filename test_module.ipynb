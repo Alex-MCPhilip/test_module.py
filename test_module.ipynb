import numpy as np 

def caculate():
	a =np.array([[1,12,3],
                [4,5,6],
                [7,4,9]])
    
	print(a) 
	print("mean:",a.mean(),a.mean(axis=0),a.mean(axis=1))
	print("standard deviation:", a.std(), a.std(axis=0), a.std(axis=1))
	print("variance:", a.var(), a.var(axis=0), a.var(axis=1))
	print('min: ',a.min() ,a.min(axis=0), a.min(axis=1))
	print('max: ',a.max() ,a.max(axis=0), a.max(axis=1))
	print("sum:", a.sum(), a.sum(axis=0), a.sum(axis=1))
	
caculate()
