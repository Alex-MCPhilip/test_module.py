import numpy as np 

def caculate():
	a =np.array([[1,12,3],
                [4,5,6],
                [7,4,9]])
    
	print(a) 
	print("mean:",a.mean(),a.mean(axis=0),a.mean(axis=1))
	print("standard deviation:", a.std(), a.std(axis=0), a.std(axis=1))
	print("variance:", a.var(), a.var(axis=0), a.var(axis=1))
	print('min: ',a.min() ,a.min(axis=0), a.min(axis=1))
	print('max: ',a.max() ,a.max(axis=0), a.max(axis=1))
	print("sum:", a.sum(), a.sum(axis=0), a.sum(axis=1))
	
caculate()



// 2 

import pandas as pd
from IPython.display import display

dict_columns = {
    'age':[39, 50, 38, 53, 28 ],
    'workclass':['State-gov', 'Self-emp-not-inc', 'Private', 'Private','Private'],
    'fnlwgt':[77516, 83311, 215646, 234721,338409],
    'education':['Bachelors','Bachelors','HS-grad','11th','Bachelors'],
    "education-num ":[13,13,9,7,13],
    "marital-status":["Never-married","Married-civ-spouse","Divorced","Married-civ-spouse","Married-civ-spouse"],
    "occupation":["Adm-clerical","Exec-managerial","Handlers-cleaners","Handlers-cleaners","Prof-specialty"],
    "relationship":["Not-in-family","Husband","Not-in-family","Husband","Wife"],
    "race":["White","White","White","Black","Black"],
    "sex":["Male","Male","Male","Male","Female"],
    "capital-gain":[2174,0,0,0,0],
    "capital-loss":[0,0,0,0,0],
    "hours-per-week":[40,13,40,40,40],
    "native-country":["United-States","United-States","United-States","United-States","Cuba"],
    "salary":["<=50K","<=50K","<=50K","<=50K","<=50K"]
}

df = pd.DataFrame(dict_columns)
race_count = df["race"].value_counts()
average_age_men = df[ df["sex"]=='Male' ]['age'].mean()

percentage_bachelors = ( df[ df['education']=='Bachelors' ].shape[0]/df.shape[0] ) *100

higher_education = df[ df["education"].isin (["Bachelors","Masters","Doctorate"]) ] 
percentage_higher_education = ( higher_education [higher_education["salary"]== ">50k"].shape[0]/higher_education.shape[0])*100

lower_education= df[~df["education"].isin(["Bachelors","Masters","Doctorate"])]
percentage_lower_education=(lower_education[lower_education["salary"]=="<=50K"].shape[0]/lower_education.shape[0])*100

min_work_hours = df["hours-per-week"].min()

num_min_workers= df [df['hours-per-week']== min_work_hours]
# .shape[0]
rich_percentage =( df [df['hours-per-week']== min_work_hours & (df['salary']=='>50k')].shape[0]/num_min_workers.shape[0] )*100


unique_countries = df['native-country'].unique()
# Kiểm tra xem có quốc gia nào có thu nhập cao '>50k' hay không
if df[df['salary'] == '>50k'].empty:
    highest_earning_country = None
    highest_earning_country_percentage = None
else:
    highest_earning_country = df[df['salary'] == '>50k']['native-country'].value_counts().idxmax()
    highest_earning_country_percentage = (df[(df['salary'] == '>50k') & (df['native-country'] == highest_earning_country)].shape[0] / df[df['native-country'] == highest_earning_country].shape[0]) * 100

if df[df["native-country"]=="India"].empty:
    top_IN_occupation= None
else:
    top_IN_occupation = df[ (df["native-country"]=="India")&(df['salary']==">50k")]["occupation"].value_counts().idxmax()
    
print(unique_countries)
print(highest_earning_country)
print(highest_earning_country_percentage)
print(top_IN_occupation)



# hiển thị kết quả
display(df)
display("this is the number of people representing my race",race_count)
display("this ís average age men : ",average_age_men)
display("this is percentage bachelors:",percentage_bachelors)

display(higher_education)
display("this is percentage higher education : ",percentage_higher_education)

display(lower_education)
display("this is percentage lower education : ",percentage_lower_education)

display(min_work_hours)

display(num_min_workers)
display(rich_percentage)

